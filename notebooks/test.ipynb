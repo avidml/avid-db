{
 "cells": [
  {
   "cell_type": "code",
   "execution_count": 4,
   "id": "8bbd23e6",
   "metadata": {},
   "outputs": [],
   "source": [
    "from json2html import *\n",
    "import json"
   ]
  },
  {
   "cell_type": "code",
   "execution_count": 3,
   "id": "bec01fe0",
   "metadata": {},
   "outputs": [],
   "source": [
    "# j = json.load(open('./vulnerabilities/2022/AVID-2022-V001.json'))\n",
    "j = json.load(open('Untitled.txt'))"
   ]
  },
  {
   "cell_type": "code",
   "execution_count": 4,
   "id": "d5144500",
   "metadata": {},
   "outputs": [],
   "source": [
    "with open(\"sample.json\", \"w\") as outfile:\n",
    "    outfile.write(json.dumps(j))"
   ]
  },
  {
   "cell_type": "code",
   "execution_count": 16,
   "id": "8138006d",
   "metadata": {
    "scrolled": false
   },
   "outputs": [
    {
     "data": {
      "text/plain": [
       "'<table id=\"info-table\" class=\"table table-bordered table-hover\"><tr><th>vuln_id</th><td>AVID-2022-V001</td></tr><tr><th>metadata</th><td><table id=\"info-table\" class=\"table table-bordered table-hover\"><tr><th>class</th><td>LLM evaluation</td></tr><tr><th>taxonomy_version</th><td>0.1</td></tr></table></td></tr><tr><th>description</th><td><table id=\"info-table\" class=\"table table-bordered table-hover\"><tr><th>lang</th><td>eng</td></tr><tr><th>name</th><td>Gender Bias in Sentence Completion Tasks performed by bert-base-uncased</td></tr><tr><th>value</th><td>xyz xyz</td></tr></table></td></tr><tr><th>reports</th><td><table id=\"info-table\" class=\"table table-bordered table-hover\"><thead><tr><th>report_id</th><th>class</th><th>name</th></tr></thead><tbody><tr><td>AVID-2022-R0001</td><td>Measurement</td><td>Gender Bias in sentence completion Tasks performed by bert-base-uncased using the HONEST metric</td></tr><tr><td>AVID-2022-R0003</td><td>Measurement</td><td>Profession bias reinforcing gender stereotypes found in bert-base-uncased, as measured on the Winobias dataset</td></tr></tbody></table></td></tr><tr><th>references</th><td><table id=\"info-table\" class=\"table table-bordered table-hover\"><thead><tr><th>label</th><th>url</th></tr></thead><tbody><tr><td>bert-base-uncased on Hugging Face</td><td>https://huggingface.co/bert-base-uncased</td></tr></tbody></table></td></tr><tr><th>tags</th><td><table id=\"info-table\" class=\"table table-bordered table-hover\"><tr><th>avid</th><td><table id=\"info-table\" class=\"table table-bordered table-hover\"><tr><th>risk_domain</th><td><ul><li>Ethics</li></ul></td></tr><tr><th>sep_id</th><td><ul><li>E0101</li></ul></td></tr><tr><th>lifecycle_stage</th><td><ul><li>Evaluation</li></ul></td></tr><tr><th>lifecycle_stage_id</th><td><ul><li>L05</li></ul></td></tr></table></td></tr><tr><th>hf</th><td><table id=\"info-table\" class=\"table table-bordered table-hover\"><tr><th>model_name</th><td>bert-base-uncased</td></tr></table></td></tr><tr><th>config</th><td><table id=\"info-table\" class=\"table table-bordered table-hover\"><tr><th>application</th><td></td></tr><tr><th>task</th><td><ul><li>Masked Language Modelling</li></ul></td></tr><tr><th>architecture</th><td><ul><li>BertForMaskedLM</li><li>Transformer</li></ul></td></tr></table></td></tr></table></td></tr></table>'"
      ]
     },
     "execution_count": 16,
     "metadata": {},
     "output_type": "execute_result"
    }
   ],
   "source": [
    "json2html.convert(json = j, table_attributes=\"id=\\\"info-table\\\" class=\\\"table table-bordered table-hover\\\"\")"
   ]
  },
  {
   "cell_type": "code",
   "execution_count": 6,
   "id": "a03eae50",
   "metadata": {},
   "outputs": [],
   "source": [
    "j = json.load(open('test.json'))"
   ]
  },
  {
   "cell_type": "code",
   "execution_count": 8,
   "id": "3b76c81d",
   "metadata": {},
   "outputs": [
    {
     "name": "stdout",
     "output_type": "stream",
     "text": [
      "# Person\n",
      "\n",
      "*JSON Schema for a person object.*\n",
      "\n",
      "## Properties\n",
      "\n",
      "- **`firstName`** *(string)*: The person's first name.\n",
      "- **`lastName`** *(string)*: The person's last name.\n",
      "\n"
     ]
    }
   ],
   "source": [
    "import jsonschema2md\n",
    "\n",
    "parser = jsonschema2md.Parser(\n",
    "    examples_as_yaml=False,\n",
    "    show_examples=\"all\",\n",
    ")\n",
    "md_lines = parser.parse_schema(j)\n",
    "print(''.join(md_lines))"
   ]
  }
 ],
 "metadata": {
  "kernelspec": {
   "display_name": "Python 3 (ipykernel)",
   "language": "python",
   "name": "python3"
  },
  "language_info": {
   "codemirror_mode": {
    "name": "ipython",
    "version": 3
   },
   "file_extension": ".py",
   "mimetype": "text/x-python",
   "name": "python",
   "nbconvert_exporter": "python",
   "pygments_lexer": "ipython3",
   "version": "3.8.2"
  }
 },
 "nbformat": 4,
 "nbformat_minor": 5
}
