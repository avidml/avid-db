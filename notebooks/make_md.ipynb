{
 "cells": [
  {
   "cell_type": "code",
   "execution_count": 2,
   "id": "0f51a271",
   "metadata": {},
   "outputs": [],
   "source": [
    "import json\n",
    "from json2html import *\n",
    "\n",
    "filename = 'AVID-2022-V001.json'\n",
    "j = json.load(open('../vulnerabilities/2022 copy/'+filename))"
   ]
  },
  {
   "cell_type": "code",
   "execution_count": 3,
   "id": "3144e323",
   "metadata": {},
   "outputs": [
    {
     "data": {
      "text/plain": [
       "{'data_type': 'AVID',\n",
       " 'data_version': '0.1',\n",
       " 'metadata': {'vuln_id': 'AVID-2022-V001'},\n",
       " 'affects': {'developer': [],\n",
       "  'deployer': ['HuggingFace'],\n",
       "  'artifact': [{'type': 'model', 'name': 'bert-base-uncased'}]},\n",
       " 'problemtype': {'class': 'LLM evaluation',\n",
       "  'description': {'lang': 'eng',\n",
       "   'value': 'Gender Bias in Sentence Completion Tasks performed by bert-base-uncased'}},\n",
       " 'references': [{'label': 'bert-base-uncased on Hugging Face',\n",
       "   'url': 'https://huggingface.co/bert-base-uncased'}],\n",
       " 'description': {'lang': 'eng', 'value': 'xyz xyz'},\n",
       " 'reports': [{'report_id': 'AVID-2022-R0001',\n",
       "   'class': 'Detection',\n",
       "   'name': 'Gender Bias in Sentence Completion Tasks performed by bert-base-uncased using the HONEST metric'},\n",
       "  {'report_id': 'AVID-2022-R0003',\n",
       "   'class': 'Detection',\n",
       "   'name': 'Profession bias reinforcing gender stereotypes found in bert-base-uncased, as measured on the Winobias dataset'}],\n",
       " 'impact': {'avid': {'risk_domain': ['Ethics'],\n",
       "   'sep_view': [{'id': 'E0101', 'name': 'Group Fairness'}],\n",
       "   'lifecycle_view': [{'id': 'L05', 'stage': 'Evaluation'}],\n",
       "   'taxonomy_version': '0.1'}},\n",
       " 'credit': [{'lang': 'eng', 'value': 'Harry Saini, AVID'}],\n",
       " 'published_date': '2022-12-23',\n",
       " 'last_modified_date': '2022-12-23'}"
      ]
     },
     "execution_count": 3,
     "metadata": {},
     "output_type": "execute_result"
    }
   ],
   "source": [
    "j"
   ]
  },
  {
   "cell_type": "code",
   "execution_count": 4,
   "id": "81dd6cbb",
   "metadata": {},
   "outputs": [],
   "source": [
    "jj = {}\n",
    "jj['ID'] = j['metadata']['vuln_id']\n",
    "jj"
   ]
  },
  {
   "cell_type": "code",
   "execution_count": 5,
   "id": "0722c62b",
   "metadata": {},
   "outputs": [
    {
     "data": {
      "text/plain": [
       "{'ID': 'AVID-2022-V001'}"
      ]
     },
     "execution_count": 5,
     "metadata": {},
     "output_type": "execute_result"
    }
   ],
   "source": [
    "jj"
   ]
  }
 ],
 "metadata": {
  "kernelspec": {
   "display_name": "Python 3 (ipykernel)",
   "language": "python",
   "name": "python3"
  },
  "language_info": {
   "codemirror_mode": {
    "name": "ipython",
    "version": 3
   },
   "file_extension": ".py",
   "mimetype": "text/x-python",
   "name": "python",
   "nbconvert_exporter": "python",
   "pygments_lexer": "ipython3",
   "version": "3.8.2"
  }
 },
 "nbformat": 4,
 "nbformat_minor": 5
}
