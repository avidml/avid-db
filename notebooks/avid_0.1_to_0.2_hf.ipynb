{
 "cells": [
  {
   "cell_type": "code",
   "execution_count": 21,
   "id": "8bbd23e6",
   "metadata": {},
   "outputs": [],
   "source": [
    "import json\n",
    "\n",
    "def convert(filename):\n",
    "    \n",
    "    # load file\n",
    "    j = json.load(open('../vulnerabilities/2022/'+filename))\n",
    "\n",
    "    # new format\n",
    "    new = {}\n",
    "    new['data_type'] = 'AVID'\n",
    "    new['data_version'] = '0.1'\n",
    "    new['metadata'] = {\n",
    "        'vuln_id': j['vuln_id']\n",
    "    #     'assigner': ''\n",
    "    }\n",
    "    new['affects'] = {\n",
    "        'developer': [],\n",
    "        'deployer': ['HuggingFace'],\n",
    "        'artifact': j['tags']['hf']\n",
    "    }\n",
    "    new['problemtype'] = {\n",
    "        'class': j['metadata']['class'],\n",
    "        'description': {\n",
    "            'lang': j['description']['lang'],\n",
    "            'value': j['description']['name']\n",
    "        }\n",
    "    }\n",
    "    new['references'] = j['references']\n",
    "    new['description'] = {\n",
    "            'lang': j['description']['lang'],\n",
    "            'value': j['description']['value']\n",
    "    }\n",
    "    new['reports'] = j['reports']\n",
    "    new['impact'] = {\n",
    "        'avid': j['tags']['avid']\n",
    "    }\n",
    "    new['impact']['avid']['taxonomy_version'] = j['metadata']['taxonomy_version']\n",
    "    new['credit']  = [\n",
    "        {\n",
    "            'lang': 'eng',\n",
    "            'value': 'Harry Saini, AVID'\n",
    "        }\n",
    "    ]\n",
    "    new['published_date'] = '2022-12-23'\n",
    "    new['last_modified_date'] = '2022-12-23'\n",
    "\n",
    "    # write new format\n",
    "    outj = open('../vulnerabilities/2022 copy/'+filename, \"w\")\n",
    "    json.dump(new, outj, indent=4)\n",
    "    outj.close()"
   ]
  },
  {
   "cell_type": "code",
   "execution_count": 12,
   "id": "0144abf9",
   "metadata": {},
   "outputs": [],
   "source": [
    "convert('AVID-2022-V001.json')\n",
    "convert('AVID-2022-V002.json')\n",
    "convert('AVID-2022-V003.json')"
   ]
  },
  {
   "cell_type": "code",
   "execution_count": 16,
   "id": "5ae0a921",
   "metadata": {},
   "outputs": [
    {
     "name": "stdout",
     "output_type": "stream",
     "text": [
      "# JSON Schema\n",
      "\n",
      "*{'lang': 'eng', 'value': 'xyz xyz'}*\n",
      "\n",
      "\n"
     ]
    }
   ],
   "source": [
    "from json2html import *\n",
    "\n",
    "filename = 'AVID-2022-V001.json'\n",
    "j = json.load(open('../vulnerabilities/2022 copy/'+filename))\n",
    "# json2html.convert(json = j, table_attributes=\"border=\\\"0\\\"\")\n",
    "# json2html.convert(json = j, table_attributes=\"id=\\\"info-table\\\" class=\\\"table table-bordered table-hover\\\"\")\n",
    "# json2html.convert(json = j, table_attributes=\"id=\\\"info-table\\\" class=\\\"table table-striped\\\"\")\n",
    "\n",
    "# markdown\n",
    "import jsonschema2md\n",
    "\n",
    "parser = jsonschema2md.Parser(examples_as_yaml=False, show_examples=\"all\")\n",
    "md_lines = parser.parse_schema(j)\n",
    "print(''.join(md_lines))"
   ]
  }
 ],
 "metadata": {
  "kernelspec": {
   "display_name": "Python 3 (ipykernel)",
   "language": "python",
   "name": "python3"
  },
  "language_info": {
   "codemirror_mode": {
    "name": "ipython",
    "version": 3
   },
   "file_extension": ".py",
   "mimetype": "text/x-python",
   "name": "python",
   "nbconvert_exporter": "python",
   "pygments_lexer": "ipython3",
   "version": "3.8.2"
  }
 },
 "nbformat": 4,
 "nbformat_minor": 5
}
