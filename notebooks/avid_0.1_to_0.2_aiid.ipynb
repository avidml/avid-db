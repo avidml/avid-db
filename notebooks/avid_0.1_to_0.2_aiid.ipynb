{
 "cells": [
  {
   "cell_type": "code",
   "execution_count": 12,
   "id": "8bbd23e6",
   "metadata": {},
   "outputs": [],
   "source": [
    "import json\n",
    "\n",
    "def convert(filename):\n",
    "    \n",
    "    # load file\n",
    "    j = json.load(open('../vulnerabilities/2022/'+filename))\n",
    "\n",
    "    # new format\n",
    "    new = {}\n",
    "    new['data_type'] = 'AVID'\n",
    "    new['data_version'] = '0.1'\n",
    "    new['metadata'] = {\n",
    "        'vuln_id': j['vuln_id']\n",
    "    }\n",
    "    new['affects'] = {\n",
    "        'developer': [],\n",
    "        'deployer': {\n",
    "            'name': j['tags']['config']['deployer'],\n",
    "            'artifact': ''\n",
    "        }\n",
    "    }\n",
    "    new['problemtype'] = {\n",
    "        'class': j['metadata']['class'],\n",
    "        'description': {\n",
    "            'lang': j['description']['lang'],\n",
    "            'value': j['description']['name']\n",
    "        }\n",
    "    }\n",
    "    new['references'] = j['references']\n",
    "    new['description'] = {\n",
    "            'lang': j['description']['lang'],\n",
    "            'value': j['description']['value']\n",
    "    }\n",
    "    new['reports'] = j['reports']\n",
    "    new['impact'] = {\n",
    "        'avid': j['tags']['avid']\n",
    "    }\n",
    "    new['impact']['avid']['taxonomy_version'] = j['metadata']['taxonomy_version']\n",
    "    new['credit']  = [\n",
    "        {\n",
    "            'lang': 'eng',\n",
    "            'value': j['tags']['aiid']['editors']+', AIID'\n",
    "        }\n",
    "    ]\n",
    "    new['published_date'] = '2022-12-23'\n",
    "    new['last_modified_date'] = '2022-12-23'\n",
    "\n",
    "    # write new format\n",
    "    outj = open('../vulnerabilities/2022 copy/'+filename, \"w\")\n",
    "    json.dump(new, outj, indent=4)\n",
    "    outj.close()"
   ]
  },
  {
   "cell_type": "code",
   "execution_count": 13,
   "id": "4cb54b5f",
   "metadata": {},
   "outputs": [],
   "source": [
    "for i in range(4,14):\n",
    "    convert('AVID-2022-V'+str(i).zfill(3)+'.json')"
   ]
  },
  {
   "cell_type": "code",
   "execution_count": null,
   "id": "96385347",
   "metadata": {},
   "outputs": [],
   "source": []
  }
 ],
 "metadata": {
  "kernelspec": {
   "display_name": "Python 3 (ipykernel)",
   "language": "python",
   "name": "python3"
  },
  "language_info": {
   "codemirror_mode": {
    "name": "ipython",
    "version": 3
   },
   "file_extension": ".py",
   "mimetype": "text/x-python",
   "name": "python",
   "nbconvert_exporter": "python",
   "pygments_lexer": "ipython3",
   "version": "3.8.2"
  }
 },
 "nbformat": 4,
 "nbformat_minor": 5
}
