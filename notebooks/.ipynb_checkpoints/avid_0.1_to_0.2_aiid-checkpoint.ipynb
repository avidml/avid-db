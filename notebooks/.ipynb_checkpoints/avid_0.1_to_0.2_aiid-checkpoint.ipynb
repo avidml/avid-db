{
 "cells": [
  {
   "cell_type": "code",
   "execution_count": 3,
   "id": "8bbd23e6",
   "metadata": {},
   "outputs": [],
   "source": [
    "import json\n",
    "\n",
    "def convert(filename):\n",
    "    \n",
    "    # load file\n",
    "    j = json.load(open('../vulnerabilities/2022/'+filename))\n",
    "\n",
    "    # new format\n",
    "    new = {}\n",
    "    new['data_type'] = 'AVID'\n",
    "    new['data_version'] = '0.1'\n",
    "    new['metadata'] = {\n",
    "        'vuln_id': j['vuln_id']\n",
    "    }\n",
    "    new['affects'] = {\n",
    "        'developer': '',\n",
    "        'deployer': {\n",
    "            'name': j['tags']['config']['deployer'],\n",
    "            'artifact': ''\n",
    "        }\n",
    "    }\n",
    "    new['problemtype'] = {\n",
    "        'class': j['metadata']['class'],\n",
    "        'description': {\n",
    "            'lang': j['description']['lang'],\n",
    "            'value': j['description']['name']\n",
    "        }\n",
    "    }\n",
    "    new['references'] = j['references']\n",
    "    new['description'] = {\n",
    "            'lang': j['description']['lang'],\n",
    "            'value': j['description']['value']\n",
    "    }\n",
    "    new['reports'] = j['reports']\n",
    "    new['impact'] = {\n",
    "        'avid': j['tags']['avid']\n",
    "    }\n",
    "    new['impact']['avid']['taxonomy_version'] = j['metadata']['taxonomy_version']\n",
    "    new['credit']  = [\n",
    "        {\n",
    "            'lang': 'eng',\n",
    "            'value': j['tags']['aiid']['editors']+', AIID'\n",
    "        }\n",
    "    ]\n",
    "    new['published_date'] = '2022-12-23'\n",
    "    new['last_modified_date'] = '2022-12-23'\n",
    "\n",
    "    # write new format\n",
    "    outj = open('../vulnerabilities/2022 copy/'+filename, \"w\")\n",
    "    json.dump(new, outj, indent=4)\n",
    "    outj.close()"
   ]
  },
  {
   "cell_type": "code",
   "execution_count": 4,
   "id": "4cb54b5f",
   "metadata": {},
   "outputs": [],
   "source": [
    "convert('AVID-2022-V004.json')"
   ]
  },
  {
   "cell_type": "code",
   "execution_count": 42,
   "id": "5ae0a921",
   "metadata": {},
   "outputs": [
    {
     "data": {
      "text/plain": [
       "'<table id=\"info-table\" class=\"table table-striped\"><tr><th>data_type</th><td>AVID</td></tr><tr><th>data_version</th><td>0.1</td></tr><tr><th>metadata</th><td><table id=\"info-table\" class=\"table table-striped\"><tr><th>id</th><td>AVID-2022-V001</td></tr></table></td></tr><tr><th>affects</th><td><table id=\"info-table\" class=\"table table-striped\"><tr><th>developer</th><td></td></tr><tr><th>deployer</th><td><table id=\"info-table\" class=\"table table-striped\"><tr><th>name</th><td>HuggingFace</td></tr><tr><th>artifact</th><td><table id=\"info-table\" class=\"table table-striped\"><thead><tr><th>type</th><th>name</th></tr></thead><tbody><tr><td>model</td><td>bert-base-uncased</td></tr></tbody></table></td></tr></table></td></tr></table></td></tr><tr><th>problemtype</th><td><table id=\"info-table\" class=\"table table-striped\"><tr><th>class</th><td>LLM evaluation</td></tr><tr><th>description</th><td><table id=\"info-table\" class=\"table table-striped\"><tr><th>lang</th><td>eng</td></tr><tr><th>value</th><td>Gender Bias in Sentence Completion Tasks performed by bert-base-uncased</td></tr></table></td></tr></table></td></tr><tr><th>references</th><td><table id=\"info-table\" class=\"table table-striped\"><thead><tr><th>label</th><th>url</th></tr></thead><tbody><tr><td>bert-base-uncased on Hugging Face</td><td>https://huggingface.co/bert-base-uncased</td></tr></tbody></table></td></tr><tr><th>description</th><td><table id=\"info-table\" class=\"table table-striped\"><tr><th>lang</th><td>eng</td></tr><tr><th>value</th><td>xyz xyz</td></tr></table></td></tr><tr><th>reports</th><td><table id=\"info-table\" class=\"table table-striped\"><thead><tr><th>report_id</th><th>class</th><th>name</th></tr></thead><tbody><tr><td>AVID-2022-R0001</td><td>Detection</td><td>Gender Bias in Sentence Completion Tasks performed by bert-base-uncased using the HONEST metric</td></tr><tr><td>AVID-2022-R0003</td><td>Detection</td><td>Profession bias reinforcing gender stereotypes found in bert-base-uncased, as measured on the Winobias dataset</td></tr></tbody></table></td></tr><tr><th>impact</th><td><table id=\"info-table\" class=\"table table-striped\"><tr><th>avid</th><td><table id=\"info-table\" class=\"table table-striped\"><tr><th>risk_domain</th><td><ul><li>Ethics</li></ul></td></tr><tr><th>sep_view</th><td><table id=\"info-table\" class=\"table table-striped\"><thead><tr><th>id</th><th>name</th></tr></thead><tbody><tr><td>E0101</td><td>Group Fairness</td></tr></tbody></table></td></tr><tr><th>lifecycle_view</th><td><table id=\"info-table\" class=\"table table-striped\"><thead><tr><th>id</th><th>stage</th></tr></thead><tbody><tr><td>L05</td><td>Evaluation</td></tr></tbody></table></td></tr></table></td></tr></table></td></tr><tr><th>credit</th><td><table id=\"info-table\" class=\"table table-striped\"><thead><tr><th>lang</th><th>value</th></tr></thead><tbody><tr><td>eng</td><td>Harry Saini, AVID</td></tr></tbody></table></td></tr></table>'"
      ]
     },
     "execution_count": 42,
     "metadata": {},
     "output_type": "execute_result"
    }
   ],
   "source": [
    "from json2html import *\n",
    "\n",
    "filename = 'AVID-2022-V001.json'\n",
    "j = json.load(open('../vulnerabilities/2022 copy/'+filename))\n",
    "json2html.convert(json = j, table_attributes=\"border=\\\"0\\\"\")\n",
    "# json2html.convert(json = j, table_attributes=\"id=\\\"info-table\\\" class=\\\"table table-bordered table-hover\\\"\")\n",
    "json2html.convert(json = j, table_attributes=\"id=\\\"info-table\\\" class=\\\"table table-striped\\\"\")"
   ]
  }
 ],
 "metadata": {
  "kernelspec": {
   "display_name": "Python 3 (ipykernel)",
   "language": "python",
   "name": "python3"
  },
  "language_info": {
   "codemirror_mode": {
    "name": "ipython",
    "version": 3
   },
   "file_extension": ".py",
   "mimetype": "text/x-python",
   "name": "python",
   "nbconvert_exporter": "python",
   "pygments_lexer": "ipython3",
   "version": "3.8.2"
  }
 },
 "nbformat": 4,
 "nbformat_minor": 5
}
