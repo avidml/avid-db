{
 "cells": [
  {
   "cell_type": "code",
   "execution_count": 21,
   "id": "8bbd23e6",
   "metadata": {},
   "outputs": [],
   "source": [
    "import json\n",
    "\n",
    "def convert(filename):\n",
    "    \n",
    "    # load file\n",
    "    j = json.load(open('../vulnerabilities/2022/'+filename))\n",
    "\n",
    "    # new format\n",
    "    new = {}\n",
    "    new['data_type'] = 'AVID'\n",
    "    new['data_version'] = '0.1'\n",
    "    new['metadata'] = {\n",
    "        'vuln_id': j['vuln_id']\n",
    "    #     'assigner': ''\n",
    "    }\n",
    "    new['affects'] = {\n",
    "        'developer': [],\n",
    "        'deployer': ['HuggingFace'],\n",
    "        'artifact': j['tags']['hf']\n",
    "    }\n",
    "    new['problemtype'] = {\n",
    "        'class': j['metadata']['class'],\n",
    "        'description': {\n",
    "            'lang': j['description']['lang'],\n",
    "            'value': j['description']['name']\n",
    "        }\n",
    "    }\n",
    "    new['references'] = j['references']\n",
    "    new['description'] = {\n",
    "            'lang': j['description']['lang'],\n",
    "            'value': j['description']['value']\n",
    "    }\n",
    "    new['reports'] = j['reports']\n",
    "    new['impact'] = {\n",
    "        'avid': j['tags']['avid']\n",
    "    }\n",
    "    new['impact']['avid']['taxonomy_version'] = j['metadata']['taxonomy_version']\n",
    "    new['credit']  = [\n",
    "        {\n",
    "            'lang': 'eng',\n",
    "            'value': 'Harry Saini, AVID'\n",
    "        }\n",
    "    ]\n",
    "    new['published_date'] = '2022-12-23'\n",
    "    new['last_modified_date'] = '2022-12-23'\n",
    "\n",
    "    # write new format\n",
    "    outj = open('../vulnerabilities/2022 copy/'+filename, \"w\")\n",
    "    json.dump(new, outj, indent=4)\n",
    "    outj.close()"
   ]
  },
  {
   "cell_type": "code",
   "execution_count": 12,
   "id": "0144abf9",
   "metadata": {},
   "outputs": [],
   "source": [
    "convert('AVID-2022-V001.json')\n",
    "convert('AVID-2022-V002.json')\n",
    "convert('AVID-2022-V003.json')"
   ]
  },
  {
   "cell_type": "code",
   "execution_count": 16,
   "id": "5ae0a921",
   "metadata": {},
   "outputs": [
    {
     "name": "stdout",
     "output_type": "stream",
     "text": [
      "# JSON Schema\n",
      "\n",
      "*{'lang': 'eng', 'value': 'xyz xyz'}*\n",
      "\n",
      "\n"
     ]
    }
   ],
   "source": [
    "from json2html import *\n",
    "\n",
    "filename = 'AVID-2022-V001.json'\n",
    "j = json.load(open('../vulnerabilities/2022 copy/'+filename))\n",
    "# json2html.convert(json = j, table_attributes=\"border=\\\"0\\\"\")\n",
    "# json2html.convert(json = j, table_attributes=\"id=\\\"info-table\\\" class=\\\"table table-bordered table-hover\\\"\")\n",
    "# json2html.convert(json = j, table_attributes=\"id=\\\"info-table\\\" class=\\\"table table-striped\\\"\")\n",
    "\n",
    "# markdown\n",
    "import jsonschema2md\n",
    "\n",
    "parser = jsonschema2md.Parser(examples_as_yaml=False, show_examples=\"all\")\n",
    "md_lines = parser.parse_schema(j)\n",
    "print(''.join(md_lines))"
   ]
  },
  {
   "cell_type": "code",
   "execution_count": 20,
   "id": "27fe0b69",
   "metadata": {},
   "outputs": [
    {
     "data": {
      "text/plain": [
       "{'data_type': 'AVID',\n",
       " 'data_version': '0.1',\n",
       " 'metadata': {'vuln_id': 'AVID-2022-V001'},\n",
       " 'affects': {'developer': [],\n",
       "  'deployer': ['HuggingFace'],\n",
       "  'artifact': [{'type': 'model', 'name': 'bert-base-uncased'}]},\n",
       " 'problemtype': {'class': 'LLM evaluation',\n",
       "  'description': {'lang': 'eng',\n",
       "   'value': 'Gender Bias in Sentence Completion Tasks performed by bert-base-uncased'}},\n",
       " 'references': [{'label': 'bert-base-uncased on Hugging Face',\n",
       "   'url': 'https://huggingface.co/bert-base-uncased'}],\n",
       " 'description': {'lang': 'eng', 'value': 'xyz xyz'},\n",
       " 'reports': [{'report_id': 'AVID-2022-R0001',\n",
       "   'class': 'Detection',\n",
       "   'name': 'Gender Bias in Sentence Completion Tasks performed by bert-base-uncased using the HONEST metric'},\n",
       "  {'report_id': 'AVID-2022-R0003',\n",
       "   'class': 'Detection',\n",
       "   'name': 'Profession bias reinforcing gender stereotypes found in bert-base-uncased, as measured on the Winobias dataset'}],\n",
       " 'impact': {'avid': {'risk_domain': ['Ethics'],\n",
       "   'sep_view': [{'id': 'E0101', 'name': 'Group Fairness'}],\n",
       "   'lifecycle_view': [{'id': 'L05', 'stage': 'Evaluation'}],\n",
       "   'taxonomy_version': '0.1'}},\n",
       " 'credit': [{'lang': 'eng', 'value': 'Harry Saini, AVID'}],\n",
       " 'published_date': '2022-12-23',\n",
       " 'last_modified_date': '2022-12-23'}"
      ]
     },
     "execution_count": 20,
     "metadata": {},
     "output_type": "execute_result"
    }
   ],
   "source": [
    "jj = {}\n",
    "jj['']"
   ]
  }
 ],
 "metadata": {
  "kernelspec": {
   "display_name": "Python 3 (ipykernel)",
   "language": "python",
   "name": "python3"
  },
  "language_info": {
   "codemirror_mode": {
    "name": "ipython",
    "version": 3
   },
   "file_extension": ".py",
   "mimetype": "text/x-python",
   "name": "python",
   "nbconvert_exporter": "python",
   "pygments_lexer": "ipython3",
   "version": "3.8.2"
  }
 },
 "nbformat": 4,
 "nbformat_minor": 5
}
